{
 "cells": [
  {
   "cell_type": "markdown",
   "metadata": {},
   "source": [
    "# Turing Machine as a Python Generator"
   ]
  },
  {
   "cell_type": "code",
   "execution_count": 2,
   "metadata": {
    "collapsed": true
   },
   "outputs": [],
   "source": [
    "import logging\n",
    "\n",
    "from builtins import all\n",
    "from itertools import islice, count"
   ]
  },
  {
   "cell_type": "code",
   "execution_count": 3,
   "metadata": {
    "collapsed": false
   },
   "outputs": [],
   "source": [
    "class TuringMachine:\n",
    "    \"\"\"Turing machine implementation.\n",
    "    \n",
    "    A machine is instantiated with a transitions; start, accept and\n",
    "    reject states and a blank symbol. We assume that the input\n",
    "    alphabet can be deducted from the transitions.\n",
    "\n",
    "    :param dict transitions: a mapping from (state, symbol) tuples\n",
    "    to (state, symbol, direction) tuple. Note that in theory δ is\n",
    "    a transition *function*, but we expect a mapping, not a callable.\n",
    "    Dirctions are either 'L' (for left) or 'R' (for right).\n",
    "    \n",
    "    :param start_state: the initial state of the machine.\n",
    "    \n",
    "    :param accpet_state: the accept state.\n",
    "    \n",
    "    :param reject_state: the reject state.\n",
    "    \n",
    "    :blank_symbol: the special symbold that marks the tape cell to be\n",
    "    empty.\n",
    "    \n",
    "    We don't really care what the input alphabet Σ is. For a particular\n",
    "    run of the machine it's the union of the input, symbols used in\n",
    "    transitions and the blank symbol.\n",
    "    \n",
    "    The input on the tape is not part of a Turing machine, so it's not\n",
    "    required on a Turing  machine instantiation. To execute a particular\n",
    "    machine use the .run() instance method.\n",
    "        \n",
    "    \"\"\"\n",
    "\n",
    "    def __init__(self, transitions, start_state='q0', accept_state='qa', reject_state='qr', blank_symbol=''):\n",
    "        self.blank_symbol = blank_symbol\n",
    "        self.transitions = transitions\n",
    "        self.start_state = start_state\n",
    "        self.reject_state = reject_state\n",
    "        \n",
    "        self.states_to_actions = {\n",
    "            accept_state: 'Accept',\n",
    "            reject_state: 'Reject',\n",
    "        }\n",
    "        \n",
    "    def run(self, input_):\n",
    "        \"\"\"Exectute the Turing machine for a particular input.\n",
    "        \n",
    "        :param input_: the input that is written on the tape.\n",
    "        \n",
    "        Given an input a machine can run forever or stop after a number\n",
    "        of steps. So it would be great if we could write a function\n",
    "        that potentially runs forever and it's up the the caller to\n",
    "        decide how many steps are executed. Actually we should not even\n",
    "        bother with this. On the other side, ^C is not the best way for\n",
    "        a user to tell us to stop. Instead we give the user control to\n",
    "        execute us one step at a time. This is what Python generators\n",
    "        are (partially) for. The yield expression suspends us and gives\n",
    "        controll to the caller until he or she decides to resume our\n",
    "        execution. Have a look to [1] to get familliar with the yield\n",
    "        keyord and generators, and hopefully never, ever write something\n",
    "        like::\n",
    "        \n",
    "            result = []\n",
    "            for i in range(len(other_items)):\n",
    "                item = other_items[i]\n",
    "                \n",
    "                result.append(item * 3)\n",
    "        \n",
    "        At each step the method yield a (action, context) tuple.\n",
    "        \n",
    "        The action is either 'Accept', 'Reject' or None. 'Accept' and\n",
    "        `Reject` are self explanatory and signal that the input is either\n",
    "        accepted or rejected. None is returned in case the machine next to\n",
    "        continue running.\n",
    "        \n",
    "        Context is a dictionary with the following keys:\n",
    "        \n",
    "        - 'state' the current state,\n",
    "        - 'left_hand_side': the symbols on the left hand side of the current\n",
    "           position.\n",
    "        - 'symbol': the current symbol,\n",
    "        - 'right_hand_side': the symbols on the righ hand side fo the current\n",
    "           position.\n",
    "        - 'direction': the direction the tape *has* moved. 'L' for left,\n",
    "          'R' for right. None is yielded first time, since in the initial\n",
    "           state there was no previous movement.\n",
    "        \n",
    "        \n",
    "        [1] http://www.jeffknupp.com/blog/2013/04/07/improve-your-python-yield-and-generators-explained/\n",
    "        \n",
    "        \"\"\"\n",
    "        state = self.start_state\n",
    "\n",
    "        # Theory doesn't say what the tape is, so we store the way\n",
    "        # that is most suitable for us. We got two lists to store\n",
    "        # symbols from left and righ hand sides from the current\n",
    "        # symbol.\n",
    "        #\n",
    "        # Initially, there is the blank symbol on the left.\n",
    "        # Note, that the element at 0 position is the *closest* to\n",
    "        # the head.\n",
    "        left_hand_side = [self.blank_symbol]\n",
    "        if not input_:\n",
    "            # In case input is empty, pretend that it consists\n",
    "            # of a blank.\n",
    "            input_ = [self.blank_symbol]\n",
    "        # Consume the right most symbol of the input and make it\n",
    "        # the current symbol, everything else is stored in a list\n",
    "        # for righ side symbols.\n",
    "        symbol, *right_hand_side = input_\n",
    "\n",
    "        # We have not moved anywhere so far. We define it here, so\n",
    "        # we can yield right in the beginning of the execution loop.\n",
    "        direction = None\n",
    "        \n",
    "        while True:\n",
    "            # Share with our state with the caller.\n",
    "            # Also give them the chance to control our execution.\n",
    "            action = self.states_to_actions.get(state)\n",
    "            yield (\n",
    "                action,\n",
    "                {\n",
    "                    'state': state,\n",
    "                    'left_hand_side': left_hand_side,\n",
    "                    'symbol': symbol,\n",
    "                    'right_hand_side': right_hand_side,\n",
    "                    'direction': direction,\n",
    "                }\n",
    "            )\n",
    "            \n",
    "            # Do the transition.\n",
    "            state, symbol, direction = self.transitions.get(\n",
    "                (state, symbol),\n",
    "                (self.reject_state, symbol, 'L'),  # All other transitions are to the reject state.\n",
    "            )\n",
    "\n",
    "            # Check whether we need to stop executon.\n",
    "            if action is not None:\n",
    "                break\n",
    "\n",
    "            # Shift to the left or to the right.\n",
    "            # First we decide from what side we pop a symbol and to which append one.\n",
    "            # This get rids of the duplicated code that actually pop and appends.\n",
    "            if direction == 'L':\n",
    "                to_append = right_hand_side\n",
    "                to_pop = left_hand_side\n",
    "            else:\n",
    "                assert direction == 'R', 'L (left) and R (right) are the only corrected directions to move.'\n",
    "                \n",
    "                to_append = left_hand_side\n",
    "                to_pop = right_hand_side\n",
    "                \n",
    "            to_append.insert(0, symbol)\n",
    "\n",
    "            try:\n",
    "                symbol = to_pop.pop(0)\n",
    "            except IndexError:\n",
    "                # In case we've reached the end of the tape,\n",
    "                # pretend that we always have a blank symbol.\n",
    "                symbol = self.blank_symbol\n",
    "                    \n",
    "    def accepts(self, input_, step_limit=100):\n",
    "        *_, (action, _) = islice(self.run(input_), step_limit)\n",
    "\n",
    "        if action is not None:\n",
    "            return action == 'Accept'\n",
    "        else:\n",
    "            logging.warn('The step limit of %s steps  is reached!', step_limit)\n",
    "        \n",
    "    def rejects(self, input_, **kwargs):\n",
    "        accepts = self.accepts(input_, **kwargs)\n",
    "        \n",
    "        if accepts is not None:\n",
    "            return not accepts\n",
    "        \n",
    "    def debug(self, input_, step_limit=None):\n",
    "        for action, context in islice(self.run(input_), step_limit):\n",
    "            print(\n",
    "                '{state:<30} {left}{b}{symbol}{f}{right}'.format(\n",
    "                    left=''.join(context['left_hand_side']),\n",
    "                    right=''.join(context['right_hand_side']),\n",
    "                    b='\\x1b[47;1m',\n",
    "                    f='\\x1b[0m',\n",
    "                    **context\n",
    "                )\n",
    "            )"
   ]
  },
  {
   "cell_type": "markdown",
   "metadata": {},
   "source": [
    "# One hash"
   ]
  },
  {
   "cell_type": "code",
   "execution_count": 4,
   "metadata": {
    "collapsed": false
   },
   "outputs": [],
   "source": [
    "one_hash = TuringMachine(\n",
    "    {\n",
    "        ('q0', '#'): ('saw_#', '#', 'R'),\n",
    "        ('saw_#', ''): ('qa', '', 'R'),\n",
    "    }\n",
    ")"
   ]
  },
  {
   "cell_type": "code",
   "execution_count": 5,
   "metadata": {
    "collapsed": false
   },
   "outputs": [],
   "source": [
    "execution = one_hash.run('#')"
   ]
  },
  {
   "cell_type": "code",
   "execution_count": 6,
   "metadata": {
    "collapsed": false
   },
   "outputs": [
    {
     "data": {
      "text/plain": [
       "(None,\n",
       " {'direction': None,\n",
       "  'left_hand_side': [''],\n",
       "  'right_hand_side': [],\n",
       "  'state': 'q0',\n",
       "  'symbol': '#'})"
      ]
     },
     "execution_count": 6,
     "metadata": {},
     "output_type": "execute_result"
    }
   ],
   "source": [
    "next(execution)"
   ]
  },
  {
   "cell_type": "code",
   "execution_count": 7,
   "metadata": {
    "collapsed": false
   },
   "outputs": [
    {
     "data": {
      "text/plain": [
       "(None,\n",
       " {'direction': 'R',\n",
       "  'left_hand_side': ['#', ''],\n",
       "  'right_hand_side': [],\n",
       "  'state': 'saw_#',\n",
       "  'symbol': ''})"
      ]
     },
     "execution_count": 7,
     "metadata": {},
     "output_type": "execute_result"
    }
   ],
   "source": [
    "next(execution)"
   ]
  },
  {
   "cell_type": "code",
   "execution_count": 8,
   "metadata": {
    "collapsed": false
   },
   "outputs": [
    {
     "data": {
      "text/plain": [
       "('Accept',\n",
       " {'direction': 'R',\n",
       "  'left_hand_side': ['', '#', ''],\n",
       "  'right_hand_side': [],\n",
       "  'state': 'qa',\n",
       "  'symbol': ''})"
      ]
     },
     "execution_count": 8,
     "metadata": {},
     "output_type": "execute_result"
    }
   ],
   "source": [
    "next(execution)"
   ]
  },
  {
   "cell_type": "code",
   "execution_count": 9,
   "metadata": {
    "collapsed": false
   },
   "outputs": [
    {
     "data": {
      "text/plain": [
       "True"
      ]
     },
     "execution_count": 9,
     "metadata": {},
     "output_type": "execute_result"
    }
   ],
   "source": [
    "one_hash.accepts('#')"
   ]
  },
  {
   "cell_type": "code",
   "execution_count": 10,
   "metadata": {
    "collapsed": false
   },
   "outputs": [],
   "source": [
    "assert one_hash.accepts('#')"
   ]
  },
  {
   "cell_type": "code",
   "execution_count": 11,
   "metadata": {
    "collapsed": false
   },
   "outputs": [],
   "source": [
    "assert one_hash.rejects('##')"
   ]
  },
  {
   "cell_type": "code",
   "execution_count": 12,
   "metadata": {
    "collapsed": false
   },
   "outputs": [],
   "source": [
    "assert one_hash.rejects('')"
   ]
  },
  {
   "cell_type": "code",
   "execution_count": 13,
   "metadata": {
    "collapsed": true
   },
   "outputs": [],
   "source": [
    "assert one_hash.rejects(' ')"
   ]
  },
  {
   "cell_type": "code",
   "execution_count": 14,
   "metadata": {
    "collapsed": false
   },
   "outputs": [
    {
     "name": "stderr",
     "output_type": "stream",
     "text": [
      "WARNING:root:The step limit of 1 steps  is reached!\n"
     ]
    }
   ],
   "source": [
    "assert one_hash.accepts('#', step_limit=1) is None"
   ]
  },
  {
   "cell_type": "markdown",
   "metadata": {},
   "source": [
    "# Two hashes"
   ]
  },
  {
   "cell_type": "code",
   "execution_count": 15,
   "metadata": {
    "collapsed": true
   },
   "outputs": [],
   "source": [
    "two_hashes = TuringMachine(\n",
    "    {\n",
    "        ('q0', '#'): ('saw_#', '#', 'R'),\n",
    "        ('saw_#', '#'): ('saw_##', '#', 'R'),\n",
    "        ('saw_##', ''): ('qa', '', 'R'),\n",
    "    }\n",
    ")"
   ]
  },
  {
   "cell_type": "code",
   "execution_count": 16,
   "metadata": {
    "collapsed": false
   },
   "outputs": [],
   "source": [
    "assert two_hashes.accepts('##')"
   ]
  },
  {
   "cell_type": "code",
   "execution_count": 17,
   "metadata": {
    "collapsed": false
   },
   "outputs": [],
   "source": [
    "assert two_hashes.rejects('#')"
   ]
  },
  {
   "cell_type": "code",
   "execution_count": 18,
   "metadata": {
    "collapsed": false
   },
   "outputs": [],
   "source": [
    "assert two_hashes.rejects('###')"
   ]
  },
  {
   "cell_type": "markdown",
   "metadata": {},
   "source": [
    "# Two same words separated by # (w#w)"
   ]
  },
  {
   "cell_type": "code",
   "execution_count": 19,
   "metadata": {
    "collapsed": true
   },
   "outputs": [],
   "source": [
    "w_hash_w = TuringMachine(\n",
    "    {\n",
    "        ('q0', '#'): ('End', '#', 'R'),\n",
    "        ('End', ''): ('qa', '', 'R'),\n",
    "\n",
    "        ('q0', '0'): ('FindDelimiter0', 'X', 'R'),\n",
    "        ('FindDelimiter0', '#'): ('Check0', '#', 'R'),\n",
    "        ('Check0', '0'): ('FindLeftmost', 'X', 'L'),\n",
    "\n",
    "        ('q0', '1'): ('FindDelimiter1', 'X', 'R'),\n",
    "        ('FindDelimiter1', '#'): ('Check1', '#', 'R'),\n",
    "        ('Check1', '1'): ('FindLeftmost', 'X', 'L'),\n",
    "\n",
    "        ('FindLeftmost', '0'): ('FindLeftmost', '0', 'L'),\n",
    "        ('FindLeftmost', '1'): ('FindLeftmost', '1', 'L'),\n",
    "        ('FindLeftmost', 'X'): ('FindLeftmost', 'X', 'L'),\n",
    "        ('FindLeftmost', '#'): ('FindLeftmost', '#', 'L'),\n",
    "        ('FindLeftmost', ''): ('FindNext', '', 'R'),\n",
    "        \n",
    "        ('FindNext', 'X'): ('FindNext', 'X', 'R'),\n",
    "        ('FindNext', '0'): ('FindDelimiter0', 'X', 'R'),\n",
    "        ('FindNext', '1'): ('FindDelimiter1', 'X', 'R'),\n",
    "        ('FindNext', '#'): ('End', '#', 'R'),\n",
    "        \n",
    "        ('FindDelimiter0', '0'): ('FindDelimiter0', '0', 'R'),\n",
    "        ('FindDelimiter0', '1'): ('FindDelimiter0', '1', 'R'),\n",
    "        ('FindDelimiter1', '0'): ('FindDelimiter1', '0', 'R'),\n",
    "        ('FindDelimiter1', '1'): ('FindDelimiter1', '1', 'R'),\n",
    "        \n",
    "        ('Check0', 'X'): ('Check0', 'X', 'R'),\n",
    "        ('Check1', 'X'): ('Check1', 'X', 'R'),\n",
    "        \n",
    "        ('End', 'X'): ('End', 'X', 'R')\n",
    "    }\n",
    ")"
   ]
  },
  {
   "cell_type": "code",
   "execution_count": 20,
   "metadata": {
    "collapsed": false
   },
   "outputs": [],
   "source": [
    "assert w_hash_w.accepts('#')"
   ]
  },
  {
   "cell_type": "code",
   "execution_count": 21,
   "metadata": {
    "collapsed": false
   },
   "outputs": [],
   "source": [
    "assert w_hash_w.accepts('0#0')"
   ]
  },
  {
   "cell_type": "code",
   "execution_count": 22,
   "metadata": {
    "collapsed": false
   },
   "outputs": [
    {
     "name": "stdout",
     "output_type": "stream",
     "text": [
      "q0                             \u001b[47;1m0\u001b[0m#0\n",
      "FindDelimiter0                 X\u001b[47;1m#\u001b[0m0\n",
      "Check0                         #X\u001b[47;1m0\u001b[0m\n",
      "FindLeftmost                   X\u001b[47;1m#\u001b[0mX\n",
      "FindLeftmost                   \u001b[47;1mX\u001b[0m#X\n",
      "FindLeftmost                   \u001b[47;1m\u001b[0mX#X\n",
      "FindNext                       \u001b[47;1mX\u001b[0m#X\n",
      "FindNext                       X\u001b[47;1m#\u001b[0mX\n",
      "End                            #X\u001b[47;1mX\u001b[0m\n",
      "End                            X#X\u001b[47;1m\u001b[0m\n",
      "qa                             X#X\u001b[47;1m\u001b[0m\n"
     ]
    }
   ],
   "source": [
    "w_hash_w.debug('0#0')"
   ]
  },
  {
   "cell_type": "code",
   "execution_count": 23,
   "metadata": {
    "collapsed": false
   },
   "outputs": [],
   "source": [
    "assert w_hash_w.accepts('1#1')"
   ]
  },
  {
   "cell_type": "code",
   "execution_count": 24,
   "metadata": {
    "collapsed": false
   },
   "outputs": [],
   "source": [
    "assert w_hash_w.accepts('0000000000000#0000000000000', step_limit=10000)"
   ]
  },
  {
   "cell_type": "code",
   "execution_count": 25,
   "metadata": {
    "collapsed": false
   },
   "outputs": [],
   "source": [
    "assert w_hash_w.accepts('1001#1001')"
   ]
  },
  {
   "cell_type": "code",
   "execution_count": 26,
   "metadata": {
    "collapsed": true
   },
   "outputs": [],
   "source": [
    "assert w_hash_w.rejects('10#1')"
   ]
  },
  {
   "cell_type": "code",
   "execution_count": 27,
   "metadata": {
    "collapsed": true
   },
   "outputs": [],
   "source": [
    "assert w_hash_w.rejects('1#01')"
   ]
  },
  {
   "cell_type": "code",
   "execution_count": 28,
   "metadata": {
    "collapsed": true
   },
   "outputs": [],
   "source": [
    "assert w_hash_w.rejects('1#1#')"
   ]
  },
  {
   "cell_type": "code",
   "execution_count": 29,
   "metadata": {
    "collapsed": true
   },
   "outputs": [],
   "source": [
    "assert w_hash_w.rejects('1##1')"
   ]
  },
  {
   "cell_type": "code",
   "execution_count": 30,
   "metadata": {
    "collapsed": false
   },
   "outputs": [
    {
     "name": "stdout",
     "output_type": "stream",
     "text": [
      "q0                             \u001b[47;1m1\u001b[0m01#1010\n",
      "FindDelimiter1                 X\u001b[47;1m0\u001b[0m1#1010\n",
      "FindDelimiter1                 0X\u001b[47;1m1\u001b[0m#1010\n",
      "FindDelimiter1                 10X\u001b[47;1m#\u001b[0m1010\n",
      "Check1                         #10X\u001b[47;1m1\u001b[0m010\n",
      "FindLeftmost                   10X\u001b[47;1m#\u001b[0mX010\n",
      "FindLeftmost                   0X\u001b[47;1m1\u001b[0m#X010\n",
      "FindLeftmost                   X\u001b[47;1m0\u001b[0m1#X010\n",
      "FindLeftmost                   \u001b[47;1mX\u001b[0m01#X010\n",
      "FindLeftmost                   \u001b[47;1m\u001b[0mX01#X010\n",
      "FindNext                       \u001b[47;1mX\u001b[0m01#X010\n",
      "FindNext                       X\u001b[47;1m0\u001b[0m1#X010\n",
      "FindDelimiter0                 XX\u001b[47;1m1\u001b[0m#X010\n",
      "FindDelimiter0                 1XX\u001b[47;1m#\u001b[0mX010\n",
      "Check0                         #1XX\u001b[47;1mX\u001b[0m010\n",
      "Check0                         X#1XX\u001b[47;1m0\u001b[0m10\n",
      "FindLeftmost                   #1XX\u001b[47;1mX\u001b[0mX10\n",
      "FindLeftmost                   1XX\u001b[47;1m#\u001b[0mXX10\n",
      "FindLeftmost                   XX\u001b[47;1m1\u001b[0m#XX10\n",
      "FindLeftmost                   X\u001b[47;1mX\u001b[0m1#XX10\n",
      "FindLeftmost                   \u001b[47;1mX\u001b[0mX1#XX10\n",
      "FindLeftmost                   \u001b[47;1m\u001b[0mXX1#XX10\n",
      "FindNext                       \u001b[47;1mX\u001b[0mX1#XX10\n",
      "FindNext                       X\u001b[47;1mX\u001b[0m1#XX10\n",
      "FindNext                       XX\u001b[47;1m1\u001b[0m#XX10\n",
      "FindDelimiter1                 XXX\u001b[47;1m#\u001b[0mXX10\n",
      "Check1                         #XXX\u001b[47;1mX\u001b[0mX10\n",
      "Check1                         X#XXX\u001b[47;1mX\u001b[0m10\n",
      "Check1                         XX#XXX\u001b[47;1m1\u001b[0m0\n",
      "FindLeftmost                   X#XXX\u001b[47;1mX\u001b[0mX0\n",
      "FindLeftmost                   #XXX\u001b[47;1mX\u001b[0mXX0\n",
      "FindLeftmost                   XXX\u001b[47;1m#\u001b[0mXXX0\n",
      "FindLeftmost                   XX\u001b[47;1mX\u001b[0m#XXX0\n",
      "FindLeftmost                   X\u001b[47;1mX\u001b[0mX#XXX0\n",
      "FindLeftmost                   \u001b[47;1mX\u001b[0mXX#XXX0\n",
      "FindLeftmost                   \u001b[47;1m\u001b[0mXXX#XXX0\n",
      "FindNext                       \u001b[47;1mX\u001b[0mXX#XXX0\n",
      "FindNext                       X\u001b[47;1mX\u001b[0mX#XXX0\n",
      "FindNext                       XX\u001b[47;1mX\u001b[0m#XXX0\n",
      "FindNext                       XXX\u001b[47;1m#\u001b[0mXXX0\n",
      "End                            #XXX\u001b[47;1mX\u001b[0mXX0\n",
      "End                            X#XXX\u001b[47;1mX\u001b[0mX0\n",
      "End                            XX#XXX\u001b[47;1mX\u001b[0m0\n",
      "End                            XXX#XXX\u001b[47;1m0\u001b[0m\n",
      "qr                             XX#XXX\u001b[47;1mX\u001b[0m0\n"
     ]
    }
   ],
   "source": [
    "w_hash_w.debug('101#1010')"
   ]
  },
  {
   "cell_type": "markdown",
   "metadata": {},
   "source": [
    "# Check for longer words"
   ]
  },
  {
   "cell_type": "code",
   "execution_count": 31,
   "metadata": {
    "collapsed": true
   },
   "outputs": [],
   "source": [
    "def generate_words():\n",
    "    for n in count():\n",
    "        yield bin(n)[2:]"
   ]
  },
  {
   "cell_type": "code",
   "execution_count": 32,
   "metadata": {
    "collapsed": false
   },
   "outputs": [],
   "source": [
    "assert all(w_hash_w.accepts('{0}#{0}'.format(w), step_limit=1000) for w in islice(generate_words(), 1000))"
   ]
  },
  {
   "cell_type": "markdown",
   "metadata": {},
   "source": [
    "# Replace processed symbols on the left of # with blanks."
   ]
  },
  {
   "cell_type": "code",
   "execution_count": 37,
   "metadata": {
    "collapsed": false
   },
   "outputs": [],
   "source": [
    "w_hash_w_blank = TuringMachine(\n",
    "    {\n",
    "        ('q0', '#'): ('End', '#', 'R'),\n",
    "        ('End', ''): ('qa', '', 'R'),\n",
    "\n",
    "        ('q0', '0'): ('FindDelimiter0', '', 'R'),\n",
    "        ('FindDelimiter0', '#'): ('Check0', '#', 'R'),\n",
    "        ('Check0', '0'): ('FindLeftmost', 'X', 'L'),\n",
    "\n",
    "        ('q0', '1'): ('FindDelimiter1', '', 'R'),\n",
    "        ('FindDelimiter1', '#'): ('Check1', '#', 'R'),\n",
    "        ('Check1', '1'): ('FindLeftmost', 'X', 'L'),\n",
    "\n",
    "        ('FindLeftmost', '0'): ('FindLeftmost', '0', 'L'),\n",
    "        ('FindLeftmost', '1'): ('FindLeftmost', '1', 'L'),\n",
    "        ('FindLeftmost', 'X'): ('FindLeftmost', 'X', 'L'),\n",
    "        ('FindLeftmost', '#'): ('FindLeftmost', '#', 'L'),\n",
    "        ('FindLeftmost', ''): ('FindNext', '', 'R'),\n",
    "        \n",
    "        ('FindNext', '0'): ('FindDelimiter0', '', 'R'),\n",
    "        ('FindNext', '1'): ('FindDelimiter1', '', 'R'),\n",
    "        ('FindNext', '#'): ('End', '#', 'R'),\n",
    "        \n",
    "        ('FindDelimiter0', '0'): ('FindDelimiter0', '0', 'R'),\n",
    "        ('FindDelimiter0', '1'): ('FindDelimiter0', '1', 'R'),\n",
    "        ('FindDelimiter1', '0'): ('FindDelimiter1', '0', 'R'),\n",
    "        ('FindDelimiter1', '1'): ('FindDelimiter1', '1', 'R'),\n",
    "        \n",
    "        ('Check0', 'X'): ('Check0', 'X', 'R'),\n",
    "        ('Check1', 'X'): ('Check1', 'X', 'R'),\n",
    "        \n",
    "        ('End', 'X'): ('End', 'X', 'R')\n",
    "    }\n",
    ")"
   ]
  },
  {
   "cell_type": "code",
   "execution_count": 38,
   "metadata": {
    "collapsed": false
   },
   "outputs": [
    {
     "name": "stdout",
     "output_type": "stream",
     "text": [
      "q0                             \u001b[47;1m0\u001b[0m1#01\n",
      "FindDelimiter0                 \u001b[47;1m1\u001b[0m#01\n",
      "FindDelimiter0                 1\u001b[47;1m#\u001b[0m01\n",
      "Check0                         #1\u001b[47;1m0\u001b[0m1\n",
      "FindLeftmost                   1\u001b[47;1m#\u001b[0mX1\n",
      "FindLeftmost                   \u001b[47;1m1\u001b[0m#X1\n",
      "FindLeftmost                   \u001b[47;1m\u001b[0m1#X1\n",
      "FindNext                       \u001b[47;1m1\u001b[0m#X1\n",
      "FindDelimiter1                 \u001b[47;1m#\u001b[0mX1\n",
      "Check1                         #\u001b[47;1mX\u001b[0m1\n",
      "Check1                         X#\u001b[47;1m1\u001b[0m\n",
      "FindLeftmost                   #\u001b[47;1mX\u001b[0mX\n",
      "FindLeftmost                   \u001b[47;1m#\u001b[0mXX\n",
      "FindLeftmost                   \u001b[47;1m\u001b[0m#XX\n",
      "FindNext                       \u001b[47;1m#\u001b[0mXX\n",
      "End                            #\u001b[47;1mX\u001b[0mX\n",
      "End                            X#\u001b[47;1mX\u001b[0m\n",
      "End                            XX#\u001b[47;1m\u001b[0m\n",
      "qa                             XX#\u001b[47;1m\u001b[0m\n"
     ]
    }
   ],
   "source": [
    "w_hash_w_blank.debug('01#01')"
   ]
  },
  {
   "cell_type": "code",
   "execution_count": 39,
   "metadata": {
    "collapsed": false
   },
   "outputs": [
    {
     "data": {
      "text/plain": [
       "51"
      ]
     },
     "execution_count": 39,
     "metadata": {},
     "output_type": "execute_result"
    }
   ],
   "source": [
    "len(list(w_hash_w_blank.run('0110#0110')))"
   ]
  },
  {
   "cell_type": "code",
   "execution_count": 40,
   "metadata": {
    "collapsed": false
   },
   "outputs": [
    {
     "data": {
      "text/plain": [
       "71"
      ]
     },
     "execution_count": 40,
     "metadata": {},
     "output_type": "execute_result"
    }
   ],
   "source": [
    "len(list(w_hash_w.run('0110#0110')))"
   ]
  },
  {
   "cell_type": "code",
   "execution_count": 41,
   "metadata": {
    "collapsed": false
   },
   "outputs": [
    {
     "data": {
      "text/html": [
       "\n",
       "    <div id=\"disqus_thread\"></div>\n",
       "    <script type=\"text/javascript\">\n",
       "        /* * * CONFIGURATION VARIABLES: EDIT BEFORE PASTING INTO YOUR WEBPAGE * * */\n",
       "        var disqus_shortname = 'notebookcomments'; // required: replace example with your forum shortname\n",
       "\n",
       "        /* * * DON'T EDIT BELOW THIS LINE * * */\n",
       "        (function() {\n",
       "            var dsq = document.createElement('script'); dsq.type = 'text/javascript'; dsq.async = true;\n",
       "            dsq.src = '//' + disqus_shortname + '.disqus.com/embed.js';\n",
       "            (document.getElementsByTagName('head')[0] || document.getElementsByTagName('body')[0]).appendChild(dsq);\n",
       "        })();\n",
       "    </script>\n",
       "    <noscript>Please enable JavaScript to view the <a href=\"http://disqus.com/?ref_noscript\">comments powered by Disqus.</a></noscript>\n",
       "    <a href=\"http://disqus.com\" class=\"dsq-brlink\">comments powered by <span class=\"logo-disqus\">Disqus</span></a>\n",
       "    "
      ],
      "text/plain": [
       "<IPython.core.display.HTML object>"
      ]
     },
     "execution_count": 41,
     "metadata": {},
     "output_type": "execute_result"
    }
   ],
   "source": [
    "from IPython.display import HTML\n",
    "\n",
    "HTML(\n",
    "    \"\"\"\n",
    "    <div id=\"disqus_thread\"></div>\n",
    "    <script type=\"text/javascript\">\n",
    "        /* * * CONFIGURATION VARIABLES: EDIT BEFORE PASTING INTO YOUR WEBPAGE * * */\n",
    "        var disqus_shortname = 'notebookcomments'; // required: replace example with your forum shortname\n",
    "\n",
    "        /* * * DON'T EDIT BELOW THIS LINE * * */\n",
    "        (function() {\n",
    "            var dsq = document.createElement('script'); dsq.type = 'text/javascript'; dsq.async = true;\n",
    "            dsq.src = '//' + disqus_shortname + '.disqus.com/embed.js';\n",
    "            (document.getElementsByTagName('head')[0] || document.getElementsByTagName('body')[0]).appendChild(dsq);\n",
    "        })();\n",
    "    </script>\n",
    "    <noscript>Please enable JavaScript to view the <a href=\"http://disqus.com/?ref_noscript\">comments powered by Disqus.</a></noscript>\n",
    "    <a href=\"http://disqus.com\" class=\"dsq-brlink\">comments powered by <span class=\"logo-disqus\">Disqus</span></a>\n",
    "    \"\"\"\n",
    ")\n",
    "\n"
   ]
  },
  {
   "cell_type": "code",
   "execution_count": null,
   "metadata": {
    "collapsed": true
   },
   "outputs": [],
   "source": []
  }
 ],
 "metadata": {
  "kernelspec": {
   "display_name": "Python 3",
   "language": "python",
   "name": "python3"
  },
  "language_info": {
   "codemirror_mode": {
    "name": "ipython",
    "version": 3
   },
   "file_extension": ".py",
   "mimetype": "text/x-python",
   "name": "python",
   "nbconvert_exporter": "python",
   "pygments_lexer": "ipython3",
   "version": "3.4.3"
  }
 },
 "nbformat": 4,
 "nbformat_minor": 0
}
